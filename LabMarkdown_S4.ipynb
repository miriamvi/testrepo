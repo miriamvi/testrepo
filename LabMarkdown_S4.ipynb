{
  "metadata": {
    "language_info": {
      "codemirror_mode": {
        "name": "python",
        "version": 3
      },
      "file_extension": ".py",
      "mimetype": "text/x-python",
      "name": "python",
      "nbconvert_exporter": "python",
      "pygments_lexer": "ipython3",
      "version": "3.8"
    },
    "kernelspec": {
      "name": "python",
      "display_name": "Pyolite",
      "language": "python"
    }
  },
  "nbformat_minor": 4,
  "nbformat": 4,
  "cells": [
    {
      "cell_type": "markdown",
      "source": "# Execute as markdown\n# H1: This is a level 1 Heading\n## H2: This is a level 2 Heading\n### H3: This is a level 3 Heading\n#### H4: This is a level 4 Heading\n##### H5: This is a level 5 Heading\n###### H6: This is a level 6 Heading",
      "metadata": {}
    },
    {
      "cell_type": "markdown",
      "source": "# Execute it as a markdown cell\n**Bold Text using asterisks.**  \n__Bold Text using underscores.__",
      "metadata": {}
    },
    {
      "cell_type": "markdown",
      "source": "***Bold and Italic text using asterisks.***  \n___Bold and Italic text using underscores.___",
      "metadata": {}
    },
    {
      "cell_type": "markdown",
      "source": "# Link example\n\n[Skills Network](https://skills.network/) \n<https://skills.network/>",
      "metadata": {}
    },
    {
      "cell_type": "markdown",
      "source": "# Image\n\nLOGO: ![This is the skills network logo](https://cf-courses-data.s3.us.cloud-object-storage.appdomain.cloud/assets/logos/SN_web_lightmode.png)",
      "metadata": {}
    },
    {
      "cell_type": "markdown",
      "source": "## Execute as a markdown cell\n\n| Country Name | Capital |\n| -------------| ------ |\n| United States | Washington DC |\n| Australia | Canberra |\n| India | New Delhi |",
      "metadata": {}
    },
    {
      "cell_type": "markdown",
      "source": "# list\n- First item using dashes\n- Second item using dashes\n- Third item using dashes\n- Fourth item using dashes\n\n* First item using asterisks\n* Second item using asterisks\n* Third item using asterisks\n* Fourth item using asterisks\n\n+ First item using plus\n+ Second item using plus\n+ Third item using plus\n+ Fourth item using plus",
      "metadata": {}
    },
    {
      "cell_type": "markdown",
      "source": "# Numbers\n1. First item\n2. Second item\n3. Third item\n4. Fourth item",
      "metadata": {}
    },
    {
      "cell_type": "markdown",
      "source": "Launcher:![This is SN labs New Launcher](https://cf-courses-data.s3.us.cloud-object-storage.appdomain.cloud/IBMDeveloperSkillsNetwork-DS0105EN-SkillsNetwork/labs/Labs_V4/images/Launcher.png)\nOutput look as:",
      "metadata": {}
    },
    {
      "cell_type": "markdown",
      "source": "<a href =\"https://www.coursera.org/learn/open-source-tools-for-data-science/home/\">Tools For Data Science</a> ",
      "metadata": {}
    },
    {
      "cell_type": "markdown",
      "source": "[Tools for Data Science](https://www.coursera.org/learn/open-source-tools-for-data-science/home/) ",
      "metadata": {}
    },
    {
      "cell_type": "markdown",
      "source": "|Fruits | Quantity(Kg) | Price(In Rupee) | \n| ------ | ------ | ------ | \n| Apple | 2 |500|\n|Orange | 1 |200|\n| Mango | 3 |1000|\n| Grapes | 2 |400|\n",
      "metadata": {}
    },
    {
      "cell_type": "markdown",
      "source": "1. Python\n2. Java\n3. C++\n4. C   ",
      "metadata": {}
    },
    {
      "cell_type": "code",
      "source": "",
      "metadata": {},
      "execution_count": null,
      "outputs": []
    }
  ]
}